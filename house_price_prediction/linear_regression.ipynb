{
 "cells": [
  {
   "cell_type": "code",
   "execution_count": 1,
   "id": "0661062f",
   "metadata": {},
   "outputs": [],
   "source": [
    "import pandas as pd\n",
    "import numpy as np\n",
    "\n",
    "df = pd.read_csv('dataset.csv')\n",
    "\n",
    "df = df.drop('Id', axis=1)\n",
    "\n",
    "locations = { # Ordered them relatively to their avg prices\n",
    "    'Rural' : 0,\n",
    "    'Suburban' : 1,\n",
    "    'Urban' : 2, \n",
    "    'Downtown' : 3\n",
    "}\n",
    "df['Location'] = [locations[x] for x in df['Location']]\n",
    "\n",
    "conditions = {\n",
    "    'Poor' : 0,\n",
    "    'Fair' : 1,\n",
    "    'Good' : 2,\n",
    "    'Excellent' : 3\n",
    "}\n",
    "df['Condition'] = [conditions[x] for x in df['Condition']]\n",
    "\n",
    "df['Garage'] = [int(x == 'Yes') for x in df['Garage']]"
   ]
  },
  {
   "cell_type": "code",
   "execution_count": 2,
   "id": "5329c402",
   "metadata": {},
   "outputs": [],
   "source": [
    "X = np.array(df.drop('Price', axis=1))\n",
    "y = np.array(df['Price'])\n",
    "\n",
    "# Normalization of values\n",
    "def normalise(x):\n",
    "    mu = x.mean()\n",
    "    std = x.std(ddof=0)\n",
    "    return (x - mu) / std\n",
    "\n",
    "m = X.shape[0]\n",
    "n = X.shape[1]\n",
    "\n",
    "X[:, 0] = normalise(X[:, 0])\n",
    "X[:, 3] = normalise(X[:, 3])"
   ]
  },
  {
   "cell_type": "code",
   "execution_count": 3,
   "id": "e8bb6c98",
   "metadata": {},
   "outputs": [],
   "source": [
    "def f(w, b, x):\n",
    "    return np.dot(w, x) + b\n",
    "\n",
    "def cost(w, b):\n",
    "    return ((X.dot(w) + b - y) ** 2).sum() / (2 * m)\n",
    "\n",
    "def gradient(w, b, lambda_):\n",
    "    dw, db = np.zeros(n), 0\n",
    "    dif = X.dot(w) + b - y\n",
    "    dw = (X.T.dot(dif) + w * lambda_) / m\n",
    "    db = dif.sum() / m\n",
    "    return dw, db"
   ]
  },
  {
   "cell_type": "code",
   "execution_count": 4,
   "id": "540fa82d",
   "metadata": {},
   "outputs": [],
   "source": [
    "def gradient_descent(iter, alpha, lambda_):\n",
    "    w = np.zeros(n)\n",
    "    b = 0\n",
    "    for _ in range(iter):\n",
    "        dw, db = gradient(w, b, lambda_)\n",
    "        \"\"\"\n",
    "        if _ % 100 == 0:\n",
    "            print(f\"Iteration {_}: Current cost: {cost(w, b)}\")\n",
    "        \"\"\"\n",
    "        w -= alpha * dw\n",
    "        b -= alpha * db\n",
    "    return w, b"
   ]
  },
  {
   "cell_type": "code",
   "execution_count": 16,
   "id": "2127f0db",
   "metadata": {},
   "outputs": [
    {
     "name": "stdout",
     "output_type": "stream",
     "text": [
      "My algos final cost: 38220428901.81065\n"
     ]
    }
   ],
   "source": [
    "iter = 100001\n",
    "alpha = 0.0000001\n",
    "lambda_ = 0\n",
    "w, b = gradient_descent(iter, alpha, lambda_)\n",
    "\n",
    "print(f\"My algos final cost: {cost(w, b)}\")"
   ]
  },
  {
   "cell_type": "code",
   "execution_count": 7,
   "id": "0e4ee90f",
   "metadata": {},
   "outputs": [
    {
     "name": "stdout",
     "output_type": "stream",
     "text": [
      "Cost of scikit learn's is 38034985140.22446\n"
     ]
    }
   ],
   "source": [
    "from sklearn.linear_model import LinearRegression\n",
    "from sklearn.metrics import mean_squared_error\n",
    "\n",
    "model = LinearRegression()\n",
    "model.fit(X, y)\n",
    "y_pred = model.predict(X)\n",
    "mse = mean_squared_error(y, y_pred)\n",
    "\n",
    "print(f\"Cost of scikit learn's is {mse / 2}\")"
   ]
  },
  {
   "cell_type": "code",
   "execution_count": null,
   "id": "0e97330e",
   "metadata": {},
   "outputs": [],
   "source": []
  }
 ],
 "metadata": {
  "kernelspec": {
   "display_name": "Python 3",
   "language": "python",
   "name": "python3"
  },
  "language_info": {
   "codemirror_mode": {
    "name": "ipython",
    "version": 3
   },
   "file_extension": ".py",
   "mimetype": "text/x-python",
   "name": "python",
   "nbconvert_exporter": "python",
   "pygments_lexer": "ipython3",
   "version": "3.12.6"
  }
 },
 "nbformat": 4,
 "nbformat_minor": 5
}
