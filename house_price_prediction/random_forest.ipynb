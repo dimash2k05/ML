{
 "cells": [
  {
   "cell_type": "code",
   "execution_count": 1,
   "id": "23043f02",
   "metadata": {},
   "outputs": [],
   "source": [
    "import pandas as pd\n",
    "import numpy as np\n",
    "from sklearn.preprocessing import StandardScaler\n",
    "\n",
    "df = pd.read_csv('dataset.csv')\n",
    "\n",
    "df = df.drop('Id', axis=1)\n",
    "\n",
    "locations = { # Ordered them relatively to their avg prices\n",
    "    'Rural' : 0,\n",
    "    'Suburban' : 1,\n",
    "    'Urban' : 2, \n",
    "    'Downtown' : 3\n",
    "}\n",
    "df['Location'] = [locations[x] for x in df['Location']]\n",
    "\n",
    "conditions = {\n",
    "    'Poor' : 0,\n",
    "    'Fair' : 1,\n",
    "    'Good' : 2,\n",
    "    'Excellent' : 3\n",
    "}\n",
    "df['Condition'] = [conditions[x] for x in df['Condition']]\n",
    "\n",
    "df['Garage'] = [int(x == 'Yes') for x in df['Garage']]"
   ]
  },
  {
   "cell_type": "code",
   "execution_count": 2,
   "id": "a098a0d0",
   "metadata": {},
   "outputs": [
    {
     "name": "stdout",
     "output_type": "stream",
     "text": [
      "(2000,)\n",
      "(2000,)\n"
     ]
    }
   ],
   "source": [
    "X = np.array(df.drop('Price', axis=1))\n",
    "y = np.array(df['Price'])\n",
    "\n",
    "# Normalization of values\n",
    "\"\"\"\n",
    "def normalise(x):\n",
    "    mu = x.mean()\n",
    "    std = x.std(ddof=0)\n",
    "    return (x - mu) / std\n",
    "\n",
    "X[:, 0] = normalise(X[:, 0])\n",
    "X[:, 3] = normalise(X[:, 3])\n",
    "\"\"\"\n",
    "m = X.shape[0]\n",
    "n = X.shape[1]\n",
    "\n",
    "scaler = StandardScaler()\n",
    "X = scaler.fit_transform(X)\n",
    "\n",
    "print(y.shape)\n",
    "y = y.reshape(-1, 1)\n",
    "y_scaler = StandardScaler()\n",
    "y = y_scaler.fit_transform(y)\n",
    "y = y.reshape(-1)\n",
    "print(y.shape)"
   ]
  },
  {
   "cell_type": "code",
   "execution_count": 4,
   "id": "75275860",
   "metadata": {},
   "outputs": [
    {
     "name": "stdout",
     "output_type": "stream",
     "text": [
      "Cost of scikit learn's is 0.07618073951635468\n"
     ]
    }
   ],
   "source": [
    "from sklearn.ensemble import RandomForestRegressor\n",
    "from sklearn.metrics import mean_squared_error\n",
    "\n",
    "model = RandomForestRegressor()\n",
    "model.fit(X, y)\n",
    "y_pred = model.predict(X)\n",
    "\n",
    "mse = mean_squared_error(y, y_pred)\n",
    "\n",
    "print(f\"Cost of scikit learn's is {mse / 2}\")"
   ]
  },
  {
   "cell_type": "code",
   "execution_count": null,
   "id": "2535eeff",
   "metadata": {},
   "outputs": [],
   "source": []
  }
 ],
 "metadata": {
  "kernelspec": {
   "display_name": "Python 3",
   "language": "python",
   "name": "python3"
  },
  "language_info": {
   "codemirror_mode": {
    "name": "ipython",
    "version": 3
   },
   "file_extension": ".py",
   "mimetype": "text/x-python",
   "name": "python",
   "nbconvert_exporter": "python",
   "pygments_lexer": "ipython3",
   "version": "3.12.6"
  }
 },
 "nbformat": 4,
 "nbformat_minor": 5
}
